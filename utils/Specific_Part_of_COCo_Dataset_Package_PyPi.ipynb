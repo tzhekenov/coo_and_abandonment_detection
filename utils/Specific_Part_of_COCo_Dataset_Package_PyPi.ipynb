{
  "cells": [
    {
      "cell_type": "markdown",
      "metadata": {
        "id": "whHjzac1yibq"
      },
      "source": [
        "# Determining Specific Part of CoCo Dataset.\n",
        "Author :Falah.G.Salieh\n",
        "\n",
        "Email:falahgs07@gmail.com\n",
        "\n",
        "Date:21/04/2021\n",
        "\n",
        "Update:21/04/2021\n",
        "\n",
        "[COCO Dataset](https://https://cocodataset.org/#download)\n",
        "![COCO Dataset](https://iraqprogrammer.files.wordpress.com/2021/06/coco-dataset.jpg)"
      ]
    },
    {
      "cell_type": "markdown",
      "metadata": {
        "id": "QWUCU2Jrz4Gg"
      },
      "source": [
        "#Step1 : import cocodataset package"
      ]
    },
    {
      "cell_type": "code",
      "execution_count": 2,
      "metadata": {
        "colab": {
          "base_uri": "https://localhost:8080/"
        },
        "id": "typNSgZoxmmr",
        "outputId": "13f2950b-d8d1-44e3-ff4e-d63f15753aca"
      },
      "outputs": [],
      "source": [
        "# !pip install CocoDataset==0.1.2"
      ]
    },
    {
      "cell_type": "markdown",
      "metadata": {
        "id": "evGum7zu11xC"
      },
      "source": [
        "#Step 2 download annotations for all coco dataset classes"
      ]
    },
    {
      "cell_type": "code",
      "execution_count": 12,
      "metadata": {
        "colab": {
          "base_uri": "https://localhost:8080/"
        },
        "id": "9ILzwujhyDmX",
        "outputId": "826d49fa-142f-46fe-f481-e3af464a7f05"
      },
      "outputs": [
        {
          "name": "stderr",
          "output_type": "stream",
          "text": [
            "UsageError: Line magic function `%wget` not found.\n"
          ]
        }
      ],
      "source": [
        "!wget http://images.cocodataset.org/annotations/annotations_trainval2014.zip\n",
        "!unzip /content/annotations_trainval2014.zip"
      ]
    },
    {
      "cell_type": "markdown",
      "metadata": {
        "id": "kBeRG1wRzT2N"
      },
      "source": [
        "#Step 3 :Download specified class name from coco dataset"
      ]
    },
    {
      "cell_type": "markdown",
      "metadata": {
        "id": "4jHsU3skBwFV"
      },
      "source": [
        "##Example 1:Person"
      ]
    },
    {
      "cell_type": "code",
      "execution_count": 9,
      "metadata": {
        "id": "2o3XJYx-xsx-"
      },
      "outputs": [
        {
          "name": "stdout",
          "output_type": "stream",
          "text": [
            "loading annotations into memory...\n"
          ]
        },
        {
          "ename": "FileNotFoundError",
          "evalue": "[Errno 2] No such file or directory: 'C:/Users/temir/fiftyone/instances_train2014.json'",
          "output_type": "error",
          "traceback": [
            "\u001b[1;31m---------------------------------------------------------------------------\u001b[0m",
            "\u001b[1;31mFileNotFoundError\u001b[0m                         Traceback (most recent call last)",
            "Cell \u001b[1;32mIn[9], line 6\u001b[0m\n\u001b[0;32m      4\u001b[0m annotations_path\u001b[38;5;241m=\u001b[39m\u001b[38;5;124mr\u001b[39m\u001b[38;5;124m'\u001b[39m\u001b[38;5;124mC:/Users/temir/fiftyone/instances_train2014.json\u001b[39m\u001b[38;5;124m'\u001b[39m \u001b[38;5;66;03m#path of coco dataset annotations\u001b[39;00m\n\u001b[0;32m      5\u001b[0m \u001b[38;5;66;03m#call download function\u001b[39;00m\n\u001b[1;32m----> 6\u001b[0m \u001b[43mcocod\u001b[49m\u001b[38;5;241;43m.\u001b[39;49m\u001b[43mcoco_dataset_download\u001b[49m\u001b[43m(\u001b[49m\u001b[43mclass_name\u001b[49m\u001b[43m,\u001b[49m\u001b[43mimages_count\u001b[49m\u001b[43m,\u001b[49m\u001b[43mannotations_path\u001b[49m\u001b[43m)\u001b[49m\n",
            "File \u001b[1;32mc:\\Users\\temir\\.conda\\envs\\tracklab\\lib\\site-packages\\coco_dataset\\coco_dataset_download.py:7\u001b[0m, in \u001b[0;36mcoco_dataset_download\u001b[1;34m(class_name, images_count, annotations_path)\u001b[0m\n\u001b[0;32m      5\u001b[0m \u001b[38;5;28;01mdef\u001b[39;00m \u001b[38;5;21mcoco_dataset_download\u001b[39m(class_name,images_count,annotations_path):\n\u001b[1;32m----> 7\u001b[0m     coco \u001b[38;5;241m=\u001b[39m \u001b[43mCOCO\u001b[49m\u001b[43m(\u001b[49m\u001b[43mannotations_path\u001b[49m\u001b[43m)\u001b[49m\n\u001b[0;32m      8\u001b[0m     \u001b[38;5;66;03m# Specify a list of category names of interest\u001b[39;00m\n\u001b[0;32m      9\u001b[0m     catIds \u001b[38;5;241m=\u001b[39m coco\u001b[38;5;241m.\u001b[39mgetCatIds(catNms\u001b[38;5;241m=\u001b[39m[class_name])\n",
            "File \u001b[1;32mc:\\Users\\temir\\.conda\\envs\\tracklab\\lib\\site-packages\\pycocotools\\coco.py:81\u001b[0m, in \u001b[0;36mCOCO.__init__\u001b[1;34m(self, annotation_file)\u001b[0m\n\u001b[0;32m     79\u001b[0m \u001b[38;5;28mprint\u001b[39m(\u001b[38;5;124m'\u001b[39m\u001b[38;5;124mloading annotations into memory...\u001b[39m\u001b[38;5;124m'\u001b[39m)\n\u001b[0;32m     80\u001b[0m tic \u001b[38;5;241m=\u001b[39m time\u001b[38;5;241m.\u001b[39mtime()\n\u001b[1;32m---> 81\u001b[0m \u001b[38;5;28;01mwith\u001b[39;00m \u001b[38;5;28;43mopen\u001b[39;49m\u001b[43m(\u001b[49m\u001b[43mannotation_file\u001b[49m\u001b[43m,\u001b[49m\u001b[43m \u001b[49m\u001b[38;5;124;43m'\u001b[39;49m\u001b[38;5;124;43mr\u001b[39;49m\u001b[38;5;124;43m'\u001b[39;49m\u001b[43m)\u001b[49m \u001b[38;5;28;01mas\u001b[39;00m f:\n\u001b[0;32m     82\u001b[0m     dataset \u001b[38;5;241m=\u001b[39m json\u001b[38;5;241m.\u001b[39mload(f)\n\u001b[0;32m     83\u001b[0m \u001b[38;5;28;01massert\u001b[39;00m \u001b[38;5;28mtype\u001b[39m(dataset)\u001b[38;5;241m==\u001b[39m\u001b[38;5;28mdict\u001b[39m, \u001b[38;5;124m'\u001b[39m\u001b[38;5;124mannotation file format \u001b[39m\u001b[38;5;132;01m{}\u001b[39;00m\u001b[38;5;124m not supported\u001b[39m\u001b[38;5;124m'\u001b[39m\u001b[38;5;241m.\u001b[39mformat(\u001b[38;5;28mtype\u001b[39m(dataset))\n",
            "\u001b[1;31mFileNotFoundError\u001b[0m: [Errno 2] No such file or directory: 'C:/Users/temir/fiftyone/instances_train2014.json'"
          ]
        }
      ],
      "source": [
        "from coco_dataset import coco_dataset_download as cocod\n",
        "class_name='person'  #class name example\n",
        "images_count=50       #count of images\n",
        "annotations_path=r'C:/Users/temir/fiftyone/instances_train2014.json' #path of coco dataset annotations\n",
        "#call download function\n",
        "cocod.coco_dataset_download(class_name,images_count,annotations_path)"
      ]
    },
    {
      "cell_type": "markdown",
      "metadata": {
        "id": "iGEC5LbmB301"
      },
      "source": [
        "##Example 2:Bus"
      ]
    },
    {
      "cell_type": "code",
      "execution_count": null,
      "metadata": {
        "colab": {
          "base_uri": "https://localhost:8080/"
        },
        "id": "xK67IKJxB3FS",
        "outputId": "cbc72dfa-9dd4-47ea-ce0d-c7957c314194"
      },
      "outputs": [
        {
          "name": "stdout",
          "output_type": "stream",
          "text": [
            "loading annotations into memory...\n",
            "Done (t=12.52s)\n",
            "creating index...\n",
            "index created!\n",
            "no.of image: 1\n",
            "no.of image: 2\n",
            "no.of image: 3\n",
            "no.of image: 4\n",
            "no.of image: 5\n",
            "no.of image: 6\n",
            "no.of image: 7\n",
            "no.of image: 8\n",
            "no.of image: 9\n",
            "no.of image: 10\n",
            "no.of image: 11\n",
            "no.of image: 12\n",
            "no.of image: 13\n",
            "no.of image: 14\n",
            "no.of image: 15\n",
            "no.of image: 16\n",
            "no.of image: 17\n",
            "no.of image: 18\n",
            "no.of image: 19\n",
            "no.of image: 20\n",
            "no.of image: 21\n",
            "no.of image: 22\n",
            "no.of image: 23\n",
            "no.of image: 24\n",
            "no.of image: 25\n",
            "no.of image: 26\n",
            "no.of image: 27\n",
            "no.of image: 28\n",
            "no.of image: 29\n",
            "no.of image: 30\n",
            "no.of image: 31\n",
            "no.of image: 32\n",
            "no.of image: 33\n",
            "no.of image: 34\n",
            "no.of image: 35\n",
            "no.of image: 36\n",
            "no.of image: 37\n",
            "no.of image: 38\n",
            "no.of image: 39\n",
            "no.of image: 40\n",
            "no.of image: 41\n",
            "no.of image: 42\n",
            "no.of image: 43\n",
            "no.of image: 44\n",
            "no.of image: 45\n",
            "no.of image: 46\n",
            "no.of image: 47\n",
            "no.of image: 48\n",
            "no.of image: 49\n",
            "no.of image: 50\n",
            "finished images download\n"
          ]
        }
      ],
      "source": [
        "from coco_dataset import coco_dataset_download as cocod\n",
        "class_name='bus'  #class name example\n",
        "images_count=50       #count of images\n",
        "annotations_path='/content/annotations/instances_train2014.json' #path of coco dataset annotations\n",
        "#call download function\n",
        "cocod.coco_dataset_download(class_name,images_count,annotations_path)"
      ]
    },
    {
      "cell_type": "code",
      "execution_count": null,
      "metadata": {
        "id": "Mj_ioWDVH6mA"
      },
      "outputs": [],
      "source": [
        "!rm -rf bus person annotations"
      ]
    },
    {
      "cell_type": "markdown",
      "metadata": {
        "id": "d83TOhXOCE3l"
      },
      "source": [
        "#Finished !!\n",
        "[pypi pakage](https://pypi.org/project/CocoDataset/)\n",
        "\n",
        "[github](https://gist.github.com/falahgs/d91a8a84fdb58ba2eec61f242eb81bc6)"
      ]
    }
  ],
  "metadata": {
    "colab": {
      "provenance": []
    },
    "kernelspec": {
      "display_name": "Python 3",
      "name": "python3"
    },
    "language_info": {
      "codemirror_mode": {
        "name": "ipython",
        "version": 3
      },
      "file_extension": ".py",
      "mimetype": "text/x-python",
      "name": "python",
      "nbconvert_exporter": "python",
      "pygments_lexer": "ipython3",
      "version": "3.10.14"
    }
  },
  "nbformat": 4,
  "nbformat_minor": 0
}
